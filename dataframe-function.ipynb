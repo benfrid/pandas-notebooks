{
 "metadata": {
  "language_info": {
   "codemirror_mode": {
    "name": "ipython",
    "version": 3
   },
   "file_extension": ".py",
   "mimetype": "text/x-python",
   "name": "python",
   "nbconvert_exporter": "python",
   "pygments_lexer": "ipython3",
   "version": "3.8.8-final"
  },
  "orig_nbformat": 2,
  "kernelspec": {
   "name": "python3",
   "display_name": "Python 3.8.8 64-bit ('ml-dev': conda)",
   "metadata": {
    "interpreter": {
     "hash": "95dd1ba3766b229ae98c6f87531f4fc00e251584a2cbc637ac3f72730045a1d5"
    }
   }
  }
 },
 "nbformat": 4,
 "nbformat_minor": 2,
 "cells": [
  {
   "source": [
    "## Import libraries"
   ],
   "cell_type": "markdown",
   "metadata": {}
  },
  {
   "cell_type": "code",
   "execution_count": 1,
   "metadata": {},
   "outputs": [],
   "source": [
    "import numpy as np \n",
    "import pandas as pd"
   ]
  },
  {
   "source": [
    "## Table application - pipe()\n",
    "\n",
    "Performed by passing the Series/DataFrame to functions"
   ],
   "cell_type": "markdown",
   "metadata": {}
  },
  {
   "cell_type": "code",
   "execution_count": 2,
   "metadata": {},
   "outputs": [],
   "source": [
    "df_p = pd.DataFrame({\"city_and_code\": [\"Chicago, IL\"]})"
   ]
  },
  {
   "cell_type": "code",
   "execution_count": 3,
   "metadata": {},
   "outputs": [
    {
     "output_type": "execute_result",
     "data": {
      "text/plain": [
       "  city_and_code\n",
       "0   Chicago, IL"
      ],
      "text/html": "<div>\n<style scoped>\n    .dataframe tbody tr th:only-of-type {\n        vertical-align: middle;\n    }\n\n    .dataframe tbody tr th {\n        vertical-align: top;\n    }\n\n    .dataframe thead th {\n        text-align: right;\n    }\n</style>\n<table border=\"1\" class=\"dataframe\">\n  <thead>\n    <tr style=\"text-align: right;\">\n      <th></th>\n      <th>city_and_code</th>\n    </tr>\n  </thead>\n  <tbody>\n    <tr>\n      <th>0</th>\n      <td>Chicago, IL</td>\n    </tr>\n  </tbody>\n</table>\n</div>"
     },
     "metadata": {},
     "execution_count": 3
    }
   ],
   "source": [
    "df_p"
   ]
  },
  {
   "cell_type": "code",
   "execution_count": 4,
   "metadata": {},
   "outputs": [],
   "source": [
    "def extract_city_name(df):\n",
    "    \"\"\"\n",
    "    Chicago, IL -> Chicago for city_name column\n",
    "    \"\"\"\n",
    "    df[\"city_name\"] = df[\"city_and_code\"].str.split(\",\").str.get(0)\n",
    "    return df\n",
    "\n",
    "\n",
    "def add_country_name(df, country_name=None):\n",
    "    \"\"\"\n",
    "    Chicago -> Chicago-US for city_name column\n",
    "    \"\"\"\n",
    "    col = \"city_name\"\n",
    "    df[\"city_and_country\"] = df[col] + country_name\n",
    "    return df"
   ]
  },
  {
   "cell_type": "code",
   "execution_count": 5,
   "metadata": {},
   "outputs": [
    {
     "output_type": "execute_result",
     "data": {
      "text/plain": [
       "  city_and_code city_name city_and_country\n",
       "0   Chicago, IL   Chicago        ChicagoUS"
      ],
      "text/html": "<div>\n<style scoped>\n    .dataframe tbody tr th:only-of-type {\n        vertical-align: middle;\n    }\n\n    .dataframe tbody tr th {\n        vertical-align: top;\n    }\n\n    .dataframe thead th {\n        text-align: right;\n    }\n</style>\n<table border=\"1\" class=\"dataframe\">\n  <thead>\n    <tr style=\"text-align: right;\">\n      <th></th>\n      <th>city_and_code</th>\n      <th>city_name</th>\n      <th>city_and_country</th>\n    </tr>\n  </thead>\n  <tbody>\n    <tr>\n      <th>0</th>\n      <td>Chicago, IL</td>\n      <td>Chicago</td>\n      <td>ChicagoUS</td>\n    </tr>\n  </tbody>\n</table>\n</div>"
     },
     "metadata": {},
     "execution_count": 5
    }
   ],
   "source": [
    "# Method 1: Nested functions (basic)\n",
    "add_country_name(extract_city_name(df_p), country_name=\"US\")"
   ]
  },
  {
   "cell_type": "code",
   "execution_count": 6,
   "metadata": {},
   "outputs": [
    {
     "output_type": "execute_result",
     "data": {
      "text/plain": [
       "  city_and_code city_name city_and_country\n",
       "0   Chicago, IL   Chicago        ChicagoUS"
      ],
      "text/html": "<div>\n<style scoped>\n    .dataframe tbody tr th:only-of-type {\n        vertical-align: middle;\n    }\n\n    .dataframe tbody tr th {\n        vertical-align: top;\n    }\n\n    .dataframe thead th {\n        text-align: right;\n    }\n</style>\n<table border=\"1\" class=\"dataframe\">\n  <thead>\n    <tr style=\"text-align: right;\">\n      <th></th>\n      <th>city_and_code</th>\n      <th>city_name</th>\n      <th>city_and_country</th>\n    </tr>\n  </thead>\n  <tbody>\n    <tr>\n      <th>0</th>\n      <td>Chicago, IL</td>\n      <td>Chicago</td>\n      <td>ChicagoUS</td>\n    </tr>\n  </tbody>\n</table>\n</div>"
     },
     "metadata": {},
     "execution_count": 6
    }
   ],
   "source": [
    "# Method 2: Method chaining using pipe (pandas encouraged)\n",
    "df_p.pipe(extract_city_name).pipe(add_country_name, country_name=\"US\")"
   ]
  },
  {
   "source": [
    "## Row or Column wise application - apply()\n",
    "\n",
    "Apply the function along an axis(row/column)"
   ],
   "cell_type": "markdown",
   "metadata": {}
  },
  {
   "cell_type": "code",
   "execution_count": 7,
   "metadata": {},
   "outputs": [],
   "source": [
    "df = pd.DataFrame(\n",
    "                    {\n",
    "                        \"one\": pd.Series(np.random.randn(3), index=[\"a\", \"b\", \"c\"]),\n",
    "                        \"two\": pd.Series(np.random.randn(4), index=[\"a\", \"b\", \"c\", \"d\"]),\n",
    "                        \"three\": pd.Series(np.random.randn(3), index=[\"b\", \"c\", \"d\"]),\n",
    "                    }\n",
    "                  )"
   ]
  },
  {
   "cell_type": "code",
   "execution_count": 8,
   "metadata": {},
   "outputs": [
    {
     "output_type": "execute_result",
     "data": {
      "text/plain": [
       "        one       two     three\n",
       "a -0.532119 -1.925059       NaN\n",
       "b  1.684989 -0.780922  1.536296\n",
       "c -0.541863  1.423139 -0.155283\n",
       "d       NaN  1.232769  0.548250"
      ],
      "text/html": "<div>\n<style scoped>\n    .dataframe tbody tr th:only-of-type {\n        vertical-align: middle;\n    }\n\n    .dataframe tbody tr th {\n        vertical-align: top;\n    }\n\n    .dataframe thead th {\n        text-align: right;\n    }\n</style>\n<table border=\"1\" class=\"dataframe\">\n  <thead>\n    <tr style=\"text-align: right;\">\n      <th></th>\n      <th>one</th>\n      <th>two</th>\n      <th>three</th>\n    </tr>\n  </thead>\n  <tbody>\n    <tr>\n      <th>a</th>\n      <td>-0.532119</td>\n      <td>-1.925059</td>\n      <td>NaN</td>\n    </tr>\n    <tr>\n      <th>b</th>\n      <td>1.684989</td>\n      <td>-0.780922</td>\n      <td>1.536296</td>\n    </tr>\n    <tr>\n      <th>c</th>\n      <td>-0.541863</td>\n      <td>1.423139</td>\n      <td>-0.155283</td>\n    </tr>\n    <tr>\n      <th>d</th>\n      <td>NaN</td>\n      <td>1.232769</td>\n      <td>0.548250</td>\n    </tr>\n  </tbody>\n</table>\n</div>"
     },
     "metadata": {},
     "execution_count": 8
    }
   ],
   "source": [
    "df"
   ]
  },
  {
   "cell_type": "code",
   "execution_count": 9,
   "metadata": {},
   "outputs": [
    {
     "output_type": "execute_result",
     "data": {
      "text/plain": [
       "one      2.226852\n",
       "two      3.348198\n",
       "three    1.691579\n",
       "dtype: float64"
      ]
     },
     "metadata": {},
     "execution_count": 9
    }
   ],
   "source": [
    "df.apply(lambda x: x.max() - x.min())"
   ]
  },
  {
   "cell_type": "code",
   "execution_count": 14,
   "metadata": {},
   "outputs": [
    {
     "output_type": "execute_result",
     "data": {
      "text/plain": [
       "a   -1.228589\n",
       "b    0.813454\n",
       "c    0.241998\n",
       "d    0.890510\n",
       "dtype: float64"
      ]
     },
     "metadata": {},
     "execution_count": 14
    }
   ],
   "source": [
    "df.apply(np.mean, axis=1)\n",
    "\n",
    "# Or pass as named function\n",
    "df.apply('mean', axis=1)"
   ]
  },
  {
   "source": [
    "## Aggregation API - agg() and transform()\n",
    "\n",
    "The aggregation API allows one to express possibly multiple aggregation operations in a single concise way. "
   ],
   "cell_type": "markdown",
   "metadata": {}
  },
  {
   "cell_type": "code",
   "execution_count": 15,
   "metadata": {},
   "outputs": [],
   "source": [
    "tsdf = pd.DataFrame(\n",
    "            np.random.randn(10, 3),\n",
    "            columns=[\"A\", \"B\", \"C\"],\n",
    "            index=pd.date_range(\"1/1/2000\", periods=10),\n",
    "        )"
   ]
  },
  {
   "cell_type": "code",
   "execution_count": 16,
   "metadata": {},
   "outputs": [
    {
     "output_type": "execute_result",
     "data": {
      "text/plain": [
       "                   A         B         C\n",
       "2000-01-01 -0.739378 -0.337812 -1.504897\n",
       "2000-01-02  1.540682 -0.350753 -0.860269\n",
       "2000-01-03 -0.025358  2.458698 -0.059512\n",
       "2000-01-04       NaN       NaN       NaN\n",
       "2000-01-05       NaN       NaN       NaN\n",
       "2000-01-06       NaN       NaN       NaN\n",
       "2000-01-07       NaN       NaN       NaN\n",
       "2000-01-08  1.343513 -0.340702  0.708854\n",
       "2000-01-09 -0.434854  0.200975 -0.517259\n",
       "2000-01-10 -1.349501 -0.774803  0.462019"
      ],
      "text/html": "<div>\n<style scoped>\n    .dataframe tbody tr th:only-of-type {\n        vertical-align: middle;\n    }\n\n    .dataframe tbody tr th {\n        vertical-align: top;\n    }\n\n    .dataframe thead th {\n        text-align: right;\n    }\n</style>\n<table border=\"1\" class=\"dataframe\">\n  <thead>\n    <tr style=\"text-align: right;\">\n      <th></th>\n      <th>A</th>\n      <th>B</th>\n      <th>C</th>\n    </tr>\n  </thead>\n  <tbody>\n    <tr>\n      <th>2000-01-01</th>\n      <td>-0.739378</td>\n      <td>-0.337812</td>\n      <td>-1.504897</td>\n    </tr>\n    <tr>\n      <th>2000-01-02</th>\n      <td>1.540682</td>\n      <td>-0.350753</td>\n      <td>-0.860269</td>\n    </tr>\n    <tr>\n      <th>2000-01-03</th>\n      <td>-0.025358</td>\n      <td>2.458698</td>\n      <td>-0.059512</td>\n    </tr>\n    <tr>\n      <th>2000-01-04</th>\n      <td>NaN</td>\n      <td>NaN</td>\n      <td>NaN</td>\n    </tr>\n    <tr>\n      <th>2000-01-05</th>\n      <td>NaN</td>\n      <td>NaN</td>\n      <td>NaN</td>\n    </tr>\n    <tr>\n      <th>2000-01-06</th>\n      <td>NaN</td>\n      <td>NaN</td>\n      <td>NaN</td>\n    </tr>\n    <tr>\n      <th>2000-01-07</th>\n      <td>NaN</td>\n      <td>NaN</td>\n      <td>NaN</td>\n    </tr>\n    <tr>\n      <th>2000-01-08</th>\n      <td>1.343513</td>\n      <td>-0.340702</td>\n      <td>0.708854</td>\n    </tr>\n    <tr>\n      <th>2000-01-09</th>\n      <td>-0.434854</td>\n      <td>0.200975</td>\n      <td>-0.517259</td>\n    </tr>\n    <tr>\n      <th>2000-01-10</th>\n      <td>-1.349501</td>\n      <td>-0.774803</td>\n      <td>0.462019</td>\n    </tr>\n  </tbody>\n</table>\n</div>"
     },
     "metadata": {},
     "execution_count": 16
    }
   ],
   "source": [
    "tsdf.iloc[3:7] = np.nan\n",
    "tsdf"
   ]
  },
  {
   "cell_type": "code",
   "execution_count": 19,
   "metadata": {},
   "outputs": [
    {
     "output_type": "execute_result",
     "data": {
      "text/plain": [
       "             A         B         C\n",
       "sum   0.335104  0.855602 -1.771066\n",
       "mean  0.055851  0.142600 -0.295178"
      ],
      "text/html": "<div>\n<style scoped>\n    .dataframe tbody tr th:only-of-type {\n        vertical-align: middle;\n    }\n\n    .dataframe tbody tr th {\n        vertical-align: top;\n    }\n\n    .dataframe thead th {\n        text-align: right;\n    }\n</style>\n<table border=\"1\" class=\"dataframe\">\n  <thead>\n    <tr style=\"text-align: right;\">\n      <th></th>\n      <th>A</th>\n      <th>B</th>\n      <th>C</th>\n    </tr>\n  </thead>\n  <tbody>\n    <tr>\n      <th>sum</th>\n      <td>0.335104</td>\n      <td>0.855602</td>\n      <td>-1.771066</td>\n    </tr>\n    <tr>\n      <th>mean</th>\n      <td>0.055851</td>\n      <td>0.142600</td>\n      <td>-0.295178</td>\n    </tr>\n  </tbody>\n</table>\n</div>"
     },
     "metadata": {},
     "execution_count": 19
    }
   ],
   "source": [
    "## Multiple aggregation passed as a list\n",
    "tsdf.agg([\"sum\", \"mean\"])"
   ]
  },
  {
   "cell_type": "code",
   "execution_count": 20,
   "metadata": {},
   "outputs": [
    {
     "output_type": "execute_result",
     "data": {
      "text/plain": [
       "                   A         B         C\n",
       "2000-01-01  0.739378  0.337812  1.504897\n",
       "2000-01-02  1.540682  0.350753  0.860269\n",
       "2000-01-03  0.025358  2.458698  0.059512\n",
       "2000-01-04       NaN       NaN       NaN\n",
       "2000-01-05       NaN       NaN       NaN\n",
       "2000-01-06       NaN       NaN       NaN\n",
       "2000-01-07       NaN       NaN       NaN\n",
       "2000-01-08  1.343513  0.340702  0.708854\n",
       "2000-01-09  0.434854  0.200975  0.517259\n",
       "2000-01-10  1.349501  0.774803  0.462019"
      ],
      "text/html": "<div>\n<style scoped>\n    .dataframe tbody tr th:only-of-type {\n        vertical-align: middle;\n    }\n\n    .dataframe tbody tr th {\n        vertical-align: top;\n    }\n\n    .dataframe thead th {\n        text-align: right;\n    }\n</style>\n<table border=\"1\" class=\"dataframe\">\n  <thead>\n    <tr style=\"text-align: right;\">\n      <th></th>\n      <th>A</th>\n      <th>B</th>\n      <th>C</th>\n    </tr>\n  </thead>\n  <tbody>\n    <tr>\n      <th>2000-01-01</th>\n      <td>0.739378</td>\n      <td>0.337812</td>\n      <td>1.504897</td>\n    </tr>\n    <tr>\n      <th>2000-01-02</th>\n      <td>1.540682</td>\n      <td>0.350753</td>\n      <td>0.860269</td>\n    </tr>\n    <tr>\n      <th>2000-01-03</th>\n      <td>0.025358</td>\n      <td>2.458698</td>\n      <td>0.059512</td>\n    </tr>\n    <tr>\n      <th>2000-01-04</th>\n      <td>NaN</td>\n      <td>NaN</td>\n      <td>NaN</td>\n    </tr>\n    <tr>\n      <th>2000-01-05</th>\n      <td>NaN</td>\n      <td>NaN</td>\n      <td>NaN</td>\n    </tr>\n    <tr>\n      <th>2000-01-06</th>\n      <td>NaN</td>\n      <td>NaN</td>\n      <td>NaN</td>\n    </tr>\n    <tr>\n      <th>2000-01-07</th>\n      <td>NaN</td>\n      <td>NaN</td>\n      <td>NaN</td>\n    </tr>\n    <tr>\n      <th>2000-01-08</th>\n      <td>1.343513</td>\n      <td>0.340702</td>\n      <td>0.708854</td>\n    </tr>\n    <tr>\n      <th>2000-01-09</th>\n      <td>0.434854</td>\n      <td>0.200975</td>\n      <td>0.517259</td>\n    </tr>\n    <tr>\n      <th>2000-01-10</th>\n      <td>1.349501</td>\n      <td>0.774803</td>\n      <td>0.462019</td>\n    </tr>\n  </tbody>\n</table>\n</div>"
     },
     "metadata": {},
     "execution_count": 20
    }
   ],
   "source": [
    "## Transform an entire dataframe\n",
    "tsdf.transform(np.abs)"
   ]
  },
  {
   "cell_type": "code",
   "execution_count": 22,
   "metadata": {},
   "outputs": [
    {
     "output_type": "execute_result",
     "data": {
      "text/plain": [
       "            absolute  <lambda>\n",
       "2000-01-01  0.739378  0.260622\n",
       "2000-01-02  1.540682  2.540682\n",
       "2000-01-03  0.025358  0.974642\n",
       "2000-01-04       NaN       NaN\n",
       "2000-01-05       NaN       NaN\n",
       "2000-01-06       NaN       NaN\n",
       "2000-01-07       NaN       NaN\n",
       "2000-01-08  1.343513  2.343513\n",
       "2000-01-09  0.434854  0.565146\n",
       "2000-01-10  1.349501 -0.349501"
      ],
      "text/html": "<div>\n<style scoped>\n    .dataframe tbody tr th:only-of-type {\n        vertical-align: middle;\n    }\n\n    .dataframe tbody tr th {\n        vertical-align: top;\n    }\n\n    .dataframe thead th {\n        text-align: right;\n    }\n</style>\n<table border=\"1\" class=\"dataframe\">\n  <thead>\n    <tr style=\"text-align: right;\">\n      <th></th>\n      <th>absolute</th>\n      <th>&lt;lambda&gt;</th>\n    </tr>\n  </thead>\n  <tbody>\n    <tr>\n      <th>2000-01-01</th>\n      <td>0.739378</td>\n      <td>0.260622</td>\n    </tr>\n    <tr>\n      <th>2000-01-02</th>\n      <td>1.540682</td>\n      <td>2.540682</td>\n    </tr>\n    <tr>\n      <th>2000-01-03</th>\n      <td>0.025358</td>\n      <td>0.974642</td>\n    </tr>\n    <tr>\n      <th>2000-01-04</th>\n      <td>NaN</td>\n      <td>NaN</td>\n    </tr>\n    <tr>\n      <th>2000-01-05</th>\n      <td>NaN</td>\n      <td>NaN</td>\n    </tr>\n    <tr>\n      <th>2000-01-06</th>\n      <td>NaN</td>\n      <td>NaN</td>\n    </tr>\n    <tr>\n      <th>2000-01-07</th>\n      <td>NaN</td>\n      <td>NaN</td>\n    </tr>\n    <tr>\n      <th>2000-01-08</th>\n      <td>1.343513</td>\n      <td>2.343513</td>\n    </tr>\n    <tr>\n      <th>2000-01-09</th>\n      <td>0.434854</td>\n      <td>0.565146</td>\n    </tr>\n    <tr>\n      <th>2000-01-10</th>\n      <td>1.349501</td>\n      <td>-0.349501</td>\n    </tr>\n  </tbody>\n</table>\n</div>"
     },
     "metadata": {},
     "execution_count": 22
    }
   ],
   "source": [
    "## Multi-transform operation\n",
    "tsdf[\"A\"].transform([np.abs, lambda x: x + 1])"
   ]
  },
  {
   "source": [
    "## Applying elementwise functions - applymap()\n",
    "\n",
    "applymap() on DataFrame and analogously map() on Series accept any Python function taking a single value and returning a single value"
   ],
   "cell_type": "markdown",
   "metadata": {}
  },
  {
   "cell_type": "code",
   "execution_count": 23,
   "metadata": {},
   "outputs": [
    {
     "output_type": "execute_result",
     "data": {
      "text/plain": [
       "        one       two     three\n",
       "a -0.532119 -1.925059       NaN\n",
       "b  1.684989 -0.780922  1.536296\n",
       "c -0.541863  1.423139 -0.155283\n",
       "d       NaN  1.232769  0.548250"
      ],
      "text/html": "<div>\n<style scoped>\n    .dataframe tbody tr th:only-of-type {\n        vertical-align: middle;\n    }\n\n    .dataframe tbody tr th {\n        vertical-align: top;\n    }\n\n    .dataframe thead th {\n        text-align: right;\n    }\n</style>\n<table border=\"1\" class=\"dataframe\">\n  <thead>\n    <tr style=\"text-align: right;\">\n      <th></th>\n      <th>one</th>\n      <th>two</th>\n      <th>three</th>\n    </tr>\n  </thead>\n  <tbody>\n    <tr>\n      <th>a</th>\n      <td>-0.532119</td>\n      <td>-1.925059</td>\n      <td>NaN</td>\n    </tr>\n    <tr>\n      <th>b</th>\n      <td>1.684989</td>\n      <td>-0.780922</td>\n      <td>1.536296</td>\n    </tr>\n    <tr>\n      <th>c</th>\n      <td>-0.541863</td>\n      <td>1.423139</td>\n      <td>-0.155283</td>\n    </tr>\n    <tr>\n      <th>d</th>\n      <td>NaN</td>\n      <td>1.232769</td>\n      <td>0.548250</td>\n    </tr>\n  </tbody>\n</table>\n</div>"
     },
     "metadata": {},
     "execution_count": 23
    }
   ],
   "source": [
    "df"
   ]
  },
  {
   "cell_type": "code",
   "execution_count": 24,
   "metadata": {},
   "outputs": [],
   "source": [
    "def f(x):\n",
    "    return len(str(x))"
   ]
  },
  {
   "cell_type": "code",
   "execution_count": 26,
   "metadata": {},
   "outputs": [
    {
     "output_type": "execute_result",
     "data": {
      "text/plain": [
       "   one  two  three\n",
       "a   19   19      3\n",
       "b   18   19     18\n",
       "c   18   18     19\n",
       "d    3   18     18"
      ],
      "text/html": "<div>\n<style scoped>\n    .dataframe tbody tr th:only-of-type {\n        vertical-align: middle;\n    }\n\n    .dataframe tbody tr th {\n        vertical-align: top;\n    }\n\n    .dataframe thead th {\n        text-align: right;\n    }\n</style>\n<table border=\"1\" class=\"dataframe\">\n  <thead>\n    <tr style=\"text-align: right;\">\n      <th></th>\n      <th>one</th>\n      <th>two</th>\n      <th>three</th>\n    </tr>\n  </thead>\n  <tbody>\n    <tr>\n      <th>a</th>\n      <td>19</td>\n      <td>19</td>\n      <td>3</td>\n    </tr>\n    <tr>\n      <th>b</th>\n      <td>18</td>\n      <td>19</td>\n      <td>18</td>\n    </tr>\n    <tr>\n      <th>c</th>\n      <td>18</td>\n      <td>18</td>\n      <td>19</td>\n    </tr>\n    <tr>\n      <th>d</th>\n      <td>3</td>\n      <td>18</td>\n      <td>18</td>\n    </tr>\n  </tbody>\n</table>\n</div>"
     },
     "metadata": {},
     "execution_count": 26
    }
   ],
   "source": [
    "df.applymap(f)"
   ]
  },
  {
   "cell_type": "code",
   "execution_count": null,
   "metadata": {},
   "outputs": [],
   "source": []
  }
 ]
}